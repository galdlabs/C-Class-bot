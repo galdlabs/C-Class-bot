import talib
import pandas as pd

class Strategy(EasyBacktest):
    def __init__(self, df, entry_percent=0.02, exit_percent=0.05, risk_percent=0.02, timeframe='1H'):
        # エントリー時の価格範囲比率、エグジット時の価格変動比率、リスク許容度を設定
        self.entry_percent = entry_percent 
        self.exit_percent = exit_percent
        self.risk_percent = risk_percent
        self.timeframe = timeframe
        
        # 指定したタイムフレームでデータをリサンプリング
        df = df.resample(timeframe, label='right', closed='right').agg({
            'open': 'first',
            'high': 'max', 
            'low': 'min',
            'close': 'last'
        })
        
        # 各時間足の最大価格範囲を計算
        df['max_range'] = df['high'] - df['low']
        
        # エントリー条件を満たすかどうかの判定フラグを作成
        df['entry_signal'] = (df['max_range'] < (df['low'] * entry_percent)) & (df['open'].shift(-1) > df['high'])
        
        # エグジット条件を満たすかどうかの判定フラグを作成 
        df['exit_signal'] = (df['high'] > (1 + exit_percent) * df['entry_price']) | (df['low'] < (1 - exit_percent) * df['entry_price'])
        
        # 親クラスのコンストラクターを呼び出す
        super().__init__(df)
        
    def action(self):
        # 現在のポジションを取得
        position = self.get_position()
        # 現在の時間足のデータを取得
        current_bar = self.df.iloc[self.i]
        
        # エントリー条件を満たし、現在ポジションがない場合
        if current_bar['entry_signal'] and position['qty'] == 0:
            # 次の時間足の開始価格を取得
            entry_price = current_bar['open'].shift(-1)
            # リスク許容度に基づいてポジションサイズを計算
            risk_amount = self.cash * self.risk_percent
            order_size = int(risk_amount / entry_price)
            # 買い注文を出す
            self.market_order(order_size=order_size)
            # エントリー価格を記録
            self.entry_price = entry_price
            
        # 現在ポジションがある場合
        elif position['qty'] > 0:
            # エグジット条件を満たしていれば
            if current_bar['exit_signal']:
                # 全ポジションを売り注文で決済
                self.market_order(order_size=-position['qty'])
                
    def run_strategy(self):
        # バックテストを実行
        self.do_backtest()
        # 損益を計算し、グラフ化
        pl, profit = make_pl(pd.DataFrame(self.exec_history), comfee=0.)
        if len(pl) > 2:
            pl["timestamp"] = pd.to_datetime(pl["timestamp"])
            pl.plot(x="timestamp", y="PL_graph")

# データとパラメータを設定して実行
data = get_data() # データ取得関数
strategy = Strategy(data, entry_percent=0.02, exit_percent=0.05, risk_percent=0.02, timeframe='1H')
strategy.run_strategy()
